{
 "cells": [
  {
   "cell_type": "markdown",
   "source": [
    "### AND gate for perceptron"
   ],
   "metadata": {
    "collapsed": false
   },
   "id": "816d9cee7097122"
  },
  {
   "cell_type": "code",
   "execution_count": 64,
   "outputs": [],
   "source": [
    "def AND(x1,x2):\n",
    "    w1,w2,theta = 0.5,0.5,0.7\n",
    "    tmp = x1 * w1 + x2 * w2\n",
    "    if tmp <= theta:\n",
    "        return 0\n",
    "    elif tmp > theta:\n",
    "        return 1"
   ],
   "metadata": {
    "collapsed": false,
    "ExecuteTime": {
     "end_time": "2024-01-29T13:01:12.293087Z",
     "start_time": "2024-01-29T13:01:12.225850Z"
    }
   },
   "id": "initial_id"
  },
  {
   "cell_type": "code",
   "execution_count": 65,
   "outputs": [
    {
     "data": {
      "text/plain": "1"
     },
     "execution_count": 65,
     "metadata": {},
     "output_type": "execute_result"
    }
   ],
   "source": [
    "AND(0,0) # 0\n",
    "AND(0,1) # 0\n",
    "AND(1,0) # 0\n",
    "AND(1,1) # 1\n"
   ],
   "metadata": {
    "collapsed": false,
    "ExecuteTime": {
     "end_time": "2024-01-29T13:01:12.296285Z",
     "start_time": "2024-01-29T13:01:12.229732Z"
    }
   },
   "id": "582edfa73771ff7e"
  },
  {
   "cell_type": "markdown",
   "source": [
    "### NAND gate for perceptron"
   ],
   "metadata": {
    "collapsed": false
   },
   "id": "99eeed1b010455d2"
  },
  {
   "cell_type": "code",
   "execution_count": 66,
   "outputs": [],
   "source": [
    "def NAND(x1,x2):\n",
    "    w1,w2,theta = 0.5,0.5,0.7\n",
    "    tmp = x1*w1 + x2 * w2\n",
    "    if tmp <= theta:\n",
    "        return 1\n",
    "    else:\n",
    "        return 0"
   ],
   "metadata": {
    "collapsed": false,
    "ExecuteTime": {
     "end_time": "2024-01-29T13:01:12.355331Z",
     "start_time": "2024-01-29T13:01:12.234818Z"
    }
   },
   "id": "6c9c28c7c06be324"
  },
  {
   "cell_type": "code",
   "execution_count": 67,
   "outputs": [
    {
     "data": {
      "text/plain": "0"
     },
     "execution_count": 67,
     "metadata": {},
     "output_type": "execute_result"
    }
   ],
   "source": [
    "NAND(0,0) # 1\n",
    "NAND(0,1) # 1\n",
    "NAND(1,0) # 1\n",
    "NAND(1,1) # 0\n"
   ],
   "metadata": {
    "collapsed": false,
    "ExecuteTime": {
     "end_time": "2024-01-29T13:01:12.355805Z",
     "start_time": "2024-01-29T13:01:12.237163Z"
    }
   },
   "id": "50926f199eae5e72"
  },
  {
   "cell_type": "markdown",
   "source": [
    "### OR gate for perceptron"
   ],
   "metadata": {
    "collapsed": false
   },
   "id": "70c3c2cd9bf75ed1"
  },
  {
   "cell_type": "code",
   "execution_count": 68,
   "outputs": [],
   "source": [
    "def OR(x1,x2):\n",
    "    w1,w2,theta = -0.5,-0.5,-0.2\n",
    "    tmp = x1 * w1 + x2 * w2\n",
    "    if tmp <= theta:\n",
    "        return 1\n",
    "    else:\n",
    "        return 0\n",
    "        "
   ],
   "metadata": {
    "collapsed": false,
    "ExecuteTime": {
     "end_time": "2024-01-29T13:01:12.374923Z",
     "start_time": "2024-01-29T13:01:12.241379Z"
    }
   },
   "id": "ba59edd3ea3fc449"
  },
  {
   "cell_type": "code",
   "execution_count": 69,
   "outputs": [
    {
     "data": {
      "text/plain": "1"
     },
     "execution_count": 69,
     "metadata": {},
     "output_type": "execute_result"
    }
   ],
   "source": [
    "OR(0,0) # 0\n",
    "OR(0,1) # 1\n",
    "OR(1,0) # 1\n",
    "OR(1,1) # 1"
   ],
   "metadata": {
    "collapsed": false,
    "ExecuteTime": {
     "end_time": "2024-01-29T13:01:12.375153Z",
     "start_time": "2024-01-29T13:01:12.243467Z"
    }
   },
   "id": "f246d7aae98747e0"
  },
  {
   "cell_type": "markdown",
   "source": [
    "### AND gate for perceptron with bias"
   ],
   "metadata": {
    "collapsed": false
   },
   "id": "92edfb05d320ac9"
  },
  {
   "cell_type": "code",
   "execution_count": 70,
   "outputs": [
    {
     "data": {
      "text/plain": "array([0. , 0.5])"
     },
     "execution_count": 70,
     "metadata": {},
     "output_type": "execute_result"
    }
   ],
   "source": [
    "import numpy as np\n",
    "x = np.array([0,1]) # input\n",
    "w = np.array([0.5,0.5]) # weight\n",
    "b = -0.7 # bias\n",
    "w * x "
   ],
   "metadata": {
    "collapsed": false,
    "ExecuteTime": {
     "end_time": "2024-01-29T13:01:12.376202Z",
     "start_time": "2024-01-29T13:01:12.247711Z"
    }
   },
   "id": "c415f7a50f35c91b"
  },
  {
   "cell_type": "code",
   "execution_count": 71,
   "outputs": [
    {
     "data": {
      "text/plain": "0.5"
     },
     "execution_count": 71,
     "metadata": {},
     "output_type": "execute_result"
    }
   ],
   "source": [
    "np.sum(w * x) # 0.5"
   ],
   "metadata": {
    "collapsed": false,
    "ExecuteTime": {
     "end_time": "2024-01-29T13:01:12.376592Z",
     "start_time": "2024-01-29T13:01:12.251020Z"
    }
   },
   "id": "4b9d2b2343e481c1"
  },
  {
   "cell_type": "code",
   "execution_count": 72,
   "outputs": [
    {
     "data": {
      "text/plain": "-0.19999999999999996"
     },
     "execution_count": 72,
     "metadata": {},
     "output_type": "execute_result"
    }
   ],
   "source": [
    "np.sum(w * x) + b # -0.19999999999999996,due to the floating point error"
   ],
   "metadata": {
    "collapsed": false,
    "ExecuteTime": {
     "end_time": "2024-01-29T13:01:12.376681Z",
     "start_time": "2024-01-29T13:01:12.254015Z"
    }
   },
   "id": "8d748da893823dd3"
  },
  {
   "cell_type": "code",
   "execution_count": 79,
   "outputs": [
    {
     "data": {
      "text/plain": "0"
     },
     "execution_count": 79,
     "metadata": {},
     "output_type": "execute_result"
    }
   ],
   "source": [
    "def AND_BIAS(x1,x2):\n",
    "    x = np.array([x1,x2])\n",
    "    w = np.array([0.5,0.5])\n",
    "    b = -0.7\n",
    "    tmp = np.sum(x * w) + b \n",
    "    if tmp <= 0:\n",
    "        return 0\n",
    "    else:\n",
    "        return 1\n",
    "AND_BIAS(0,0) # 0"
   ],
   "metadata": {
    "collapsed": false,
    "ExecuteTime": {
     "end_time": "2024-01-29T13:04:38.922337Z",
     "start_time": "2024-01-29T13:04:38.908988Z"
    }
   },
   "id": "264d175fbd586771"
  },
  {
   "cell_type": "code",
   "execution_count": 75,
   "outputs": [],
   "source": [
    "def NAND_BIAS(x1,x2):\n",
    "    x = np.array([x1,x2])\n",
    "    w = np.array([-0.5,-0.5])\n",
    "    b = 0.7\n",
    "    tmp = np.sum(x * w) + b \n",
    "    if tmp <= 0:\n",
    "        return 0\n",
    "    else:\n",
    "        return 1"
   ],
   "metadata": {
    "collapsed": false,
    "ExecuteTime": {
     "end_time": "2024-01-29T13:03:20.533427Z",
     "start_time": "2024-01-29T13:03:20.527583Z"
    }
   },
   "id": "f6ed8bd115a7797f"
  },
  {
   "cell_type": "code",
   "execution_count": 77,
   "outputs": [
    {
     "data": {
      "text/plain": "1"
     },
     "execution_count": 77,
     "metadata": {},
     "output_type": "execute_result"
    }
   ],
   "source": [
    "NAND_BIAS(0,0) # 1"
   ],
   "metadata": {
    "collapsed": false,
    "ExecuteTime": {
     "end_time": "2024-01-29T13:03:27.767689Z",
     "start_time": "2024-01-29T13:03:27.755463Z"
    }
   },
   "id": "9abfe426a562785"
  },
  {
   "cell_type": "code",
   "execution_count": 76,
   "outputs": [],
   "source": [
    "def OR_BIAS(x1,x2):\n",
    "    x = np.array([x1,x2])\n",
    "    w = np.array([0.5,0.5])\n",
    "    b = -0.2\n",
    "    \n",
    "    tmp = np.sum(x*w) + b\n",
    "    if tmp <=0:\n",
    "        return 0\n",
    "    else:\n",
    "        return 1"
   ],
   "metadata": {
    "collapsed": false,
    "ExecuteTime": {
     "end_time": "2024-01-29T13:03:22.759370Z",
     "start_time": "2024-01-29T13:03:22.747421Z"
    }
   },
   "id": "943df4f5ed506c8"
  },
  {
   "cell_type": "markdown",
   "source": [
    "##### In here, we just use the perpectron to implement the logical gate"
   ],
   "metadata": {
    "collapsed": false
   },
   "id": "85c0f694fadbe850"
  },
  {
   "cell_type": "code",
   "execution_count": null,
   "outputs": [],
   "source": [
    "def XOR(x1,x2):\n",
    "    s1 = NAND_BIAS(x1,x2)\n",
    "    s2 = OR_BIAS(x1,x2)\n",
    "    y = AND_BIAS(s1,s2)\n",
    "    return y"
   ],
   "metadata": {
    "collapsed": false,
    "ExecuteTime": {
     "start_time": "2024-01-29T13:01:12.274664Z"
    }
   },
   "id": "33135417124281d1"
  },
  {
   "cell_type": "code",
   "execution_count": 80,
   "outputs": [
    {
     "data": {
      "text/plain": "1"
     },
     "execution_count": 80,
     "metadata": {},
     "output_type": "execute_result"
    }
   ],
   "source": [
    "XOR(1,0)"
   ],
   "metadata": {
    "collapsed": false,
    "ExecuteTime": {
     "end_time": "2024-01-29T13:04:44.224109Z",
     "start_time": "2024-01-29T13:04:44.208545Z"
    }
   },
   "id": "6d412ad4dd3df81"
  }
 ],
 "metadata": {
  "kernelspec": {
   "display_name": "Python 3",
   "language": "python",
   "name": "python3"
  },
  "language_info": {
   "codemirror_mode": {
    "name": "ipython",
    "version": 2
   },
   "file_extension": ".py",
   "mimetype": "text/x-python",
   "name": "python",
   "nbconvert_exporter": "python",
   "pygments_lexer": "ipython2",
   "version": "2.7.6"
  }
 },
 "nbformat": 4,
 "nbformat_minor": 5
}
