{
 "cells": [
  {
   "cell_type": "markdown",
   "source": [
    "It is a transfer from input values to extract the truth of the import values "
   ],
   "metadata": {
    "collapsed": false
   },
   "id": "f2d9ac434ae09269"
  },
  {
   "cell_type": "markdown",
   "source": [
    "Loss function :\n",
    "    - It is a measure of how well the model is performing \n",
    "    - types\n",
    "        - mean squared error \n",
    "    one-shot \n",
    "        "
   ],
   "metadata": {
    "collapsed": false
   },
   "id": "399246afec108cec"
  },
  {
   "cell_type": "markdown",
   "source": [
    "### mean squared error"
   ],
   "metadata": {
    "collapsed": false
   },
   "id": "825839f9880d9ca3"
  },
  {
   "cell_type": "code",
   "execution_count": 1,
   "outputs": [],
   "source": [
    "import numpy as np"
   ],
   "metadata": {
    "collapsed": false,
    "ExecuteTime": {
     "end_time": "2024-02-20T13:48:41.490065Z",
     "start_time": "2024-02-20T13:48:40.574874Z"
    }
   },
   "id": "14121767da547753"
  },
  {
   "cell_type": "code",
   "execution_count": 2,
   "outputs": [],
   "source": [
    "def mean_squared_error(y,t):\n",
    "    return 0.5 * np.sum((y-t)**2)"
   ],
   "metadata": {
    "collapsed": false,
    "ExecuteTime": {
     "end_time": "2024-02-20T13:48:41.493821Z",
     "start_time": "2024-02-20T13:48:41.490401Z"
    }
   },
   "id": "7b98016e9459177"
  },
  {
   "cell_type": "code",
   "execution_count": 3,
   "outputs": [],
   "source": [
    "# set '2' as the right value\n",
    "t = [0,0,1,0,0,0,0,0,0,0]\n",
    "\n",
    "# example 1: '2' is the highest probability \n",
    "y = [0.1,0.05,0.6,0.0,0.05,0.1,0.0,0.1,0.0,0.0]\n",
    "\n"
   ],
   "metadata": {
    "collapsed": false,
    "ExecuteTime": {
     "end_time": "2024-02-20T13:51:27.898351Z",
     "start_time": "2024-02-20T13:51:27.884443Z"
    }
   },
   "id": "d3a6266ad86f994d"
  },
  {
   "cell_type": "code",
   "execution_count": 4,
   "outputs": [
    {
     "data": {
      "text/plain": "0.09750000000000003"
     },
     "execution_count": 4,
     "metadata": {},
     "output_type": "execute_result"
    }
   ],
   "source": [
    "mean_squared_error(np.array(y),np.array(t))"
   ],
   "metadata": {
    "collapsed": false,
    "ExecuteTime": {
     "end_time": "2024-02-20T13:51:57.076157Z",
     "start_time": "2024-02-20T13:51:57.057488Z"
    }
   },
   "id": "96e41bcbc14a753a"
  },
  {
   "cell_type": "code",
   "execution_count": 7,
   "outputs": [
    {
     "data": {
      "text/plain": "0.5975"
     },
     "execution_count": 7,
     "metadata": {},
     "output_type": "execute_result"
    }
   ],
   "source": [
    "# example 2: '7' is the highest probability \n",
    "y = [0.1,0.05,0.1,0.0,0.05,0.1,0.0,0.6,0.0,0.0]\n",
    "mean_squared_error(np.array(y),np.array(t))"
   ],
   "metadata": {
    "collapsed": false,
    "ExecuteTime": {
     "end_time": "2024-02-20T14:00:37.419955Z",
     "start_time": "2024-02-20T14:00:37.406536Z"
    }
   },
   "id": "64d678b9d1f64a21"
  },
  {
   "cell_type": "code",
   "execution_count": 13,
   "outputs": [
    {
     "data": {
      "text/plain": "[<matplotlib.lines.Line2D at 0x1209b0040>]"
     },
     "execution_count": 13,
     "metadata": {},
     "output_type": "execute_result"
    },
    {
     "data": {
      "text/plain": "<Figure size 640x480 with 1 Axes>",
      "image/png": "[encoded data removed]"
     },
     "metadata": {},
     "output_type": "display_data"
    }
   ],
   "source": [
    "## plot log function from x = 0 to 100\n",
    "import matplotlib.pyplot as plt \n",
    "x = np.arange(0.01,1,0.01)\n",
    "y = np.log(x)\n",
    "plt.plot(x,y)"
   ],
   "metadata": {
    "collapsed": false,
    "ExecuteTime": {
     "end_time": "2024-02-20T14:12:42.505504Z",
     "start_time": "2024-02-20T14:12:42.462594Z"
    }
   },
   "id": "c8871ab619613d7"
  },
  {
   "cell_type": "markdown",
   "source": [
    "### cross entropy error \n"
   ],
   "metadata": {
    "collapsed": false
   },
   "id": "7cc37d08fbe0897c"
  },
  {
   "cell_type": "code",
   "execution_count": 16,
   "outputs": [],
   "source": [
    "### cross entropy error \n",
    "def cross_entropy_error(y,t):\n",
    "    delta = 1e-7 # to avoid log(0), which is infinity\n",
    "    return -np.sum(t * np.log(y + delta))"
   ],
   "metadata": {
    "collapsed": false,
    "ExecuteTime": {
     "end_time": "2024-02-20T14:16:56.198065Z",
     "start_time": "2024-02-20T14:16:56.190473Z"
    }
   },
   "id": "c572733e2d551717"
  },
  {
   "cell_type": "code",
   "execution_count": 17,
   "outputs": [
    {
     "data": {
      "text/plain": "0.510825457099338"
     },
     "execution_count": 17,
     "metadata": {},
     "output_type": "execute_result"
    }
   ],
   "source": [
    "t = [0,0,1,0,0,0,0,0,0,0]\n",
    "y = [0.1,0.05,0.6,0.0,0.05,0.1,0.0,0.1,0.0,0.0]\n",
    "cross_entropy_error(np.array(y),np.array(t))\n"
   ],
   "metadata": {
    "collapsed": false,
    "ExecuteTime": {
     "end_time": "2024-02-20T14:16:57.985267Z",
     "start_time": "2024-02-20T14:16:57.975806Z"
    }
   },
   "id": "6994612c886b83b2"
  },
  {
   "cell_type": "code",
   "execution_count": 19,
   "outputs": [
    {
     "data": {
      "text/plain": "2.302584092994546"
     },
     "execution_count": 19,
     "metadata": {},
     "output_type": "execute_result"
    }
   ],
   "source": [
    "# example 2: '7' is the highest probability \n",
    "y = [0.1,0.05,0.1,0.0,0.05,0.1,0.0,0.6,0.0,0.0]\n",
    "cross_entropy_error(np.array(y),np.array(t))"
   ],
   "metadata": {
    "collapsed": false,
    "ExecuteTime": {
     "end_time": "2024-02-20T14:17:17.689487Z",
     "start_time": "2024-02-20T14:17:17.679539Z"
    }
   },
   "id": "c579a2e13ac8b1d7"
  }
 ],
 "metadata": {
  "kernelspec": {
   "display_name": "Python 3",
   "language": "python",
   "name": "python3"
  },
  "language_info": {
   "codemirror_mode": {
    "name": "ipython",
    "version": 2
   },
   "file_extension": ".py",
   "mimetype": "text/x-python",
   "name": "python",
   "nbconvert_exporter": "python",
   "pygments_lexer": "ipython2",
   "version": "2.7.6"
  }
 },
 "nbformat": 4,
 "nbformat_minor": 5
}
