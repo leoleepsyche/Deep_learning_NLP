{
 "cells": [
  {
   "cell_type": "markdown",
   "source": [
    "As I went further to study deep learning, I thought it was not enough to go further. I plan to go back to study statistics to learn them, as this time, I plan to use Python + manual operation to study, hoping this time, I learn this better like my co-advisor said if I do not learn it right now when I will learn, and how could I learn. in that time I am sure that I do not have enough time and energy to learn the basic rules behind deep learning."
   ],
   "metadata": {
    "collapsed": false
   },
   "id": "424d4cf2709b900d"
  },
  {
   "cell_type": "code",
   "execution_count": null,
   "outputs": [],
   "source": [
    "# today, I will start to learn how to achieve an attractive plot using seaborn\n"
   ],
   "metadata": {
    "collapsed": false
   },
   "id": "a00faf91266698df"
  },
  {
   "cell_type": "code",
   "execution_count": 4,
   "outputs": [
    {
     "name": "stdout",
     "output_type": "stream",
     "text": [
      "Using matplotlib backend: <object object at 0x107d973a0>\n"
     ]
    }
   ],
   "source": [
    "%matplotlib\n",
    "import numpy as np\n",
    "import seaborn as sns\n",
    "import matplotlib.pyplot as plt\n"
   ],
   "metadata": {
    "collapsed": false,
    "ExecuteTime": {
     "end_time": "2024-03-30T09:41:44.853299Z",
     "start_time": "2024-03-30T09:41:43.964152Z"
    }
   },
   "id": "e8483db92381fde4"
  },
  {
   "cell_type": "code",
   "execution_count": 5,
   "outputs": [],
   "source": [
    "def sinplot(n=10, flip=1):\n",
    "    x = np.linspace(0, 14, 100)\n",
    "    for i in range(1, n + 1):\n",
    "        plt.plot(x, np.sin(x + i * .5) * (n + 2 - i) * flip)\n",
    "        "
   ],
   "metadata": {
    "collapsed": false,
    "ExecuteTime": {
     "end_time": "2024-03-30T09:41:45.883454Z",
     "start_time": "2024-03-30T09:41:45.880830Z"
    }
   },
   "id": "dfe86a6043b17354"
  },
  {
   "cell_type": "code",
   "execution_count": 7,
   "outputs": [],
   "source": [
    "sinplot()"
   ],
   "metadata": {
    "collapsed": false,
    "ExecuteTime": {
     "end_time": "2024-03-30T09:41:51.308398Z",
     "start_time": "2024-03-30T09:41:51.299921Z"
    }
   },
   "id": "e06c8ed516efe7a6"
  },
  {
   "cell_type": "code",
   "execution_count": 6,
   "outputs": [],
   "source": [
    "# applying the default theme \n",
    "sns.set_theme()\n",
    "\n"
   ],
   "metadata": {
    "collapsed": false,
    "ExecuteTime": {
     "end_time": "2024-03-30T09:41:46.896926Z",
     "start_time": "2024-03-30T09:41:46.887984Z"
    }
   },
   "id": "2a62c84f5b487342"
  },
  {
   "cell_type": "code",
   "execution_count": null,
   "outputs": [],
   "source": [],
   "metadata": {
    "collapsed": false
   },
   "id": "7058cc5a03b77ee6"
  }
 ],
 "metadata": {
  "kernelspec": {
   "display_name": "Python 3",
   "language": "python",
   "name": "python3"
  },
  "language_info": {
   "codemirror_mode": {
    "name": "ipython",
    "version": 2
   },
   "file_extension": ".py",
   "mimetype": "text/x-python",
   "name": "python",
   "nbconvert_exporter": "python",
   "pygments_lexer": "ipython2",
   "version": "2.7.6"
  }
 },
 "nbformat": 4,
 "nbformat_minor": 5
}
